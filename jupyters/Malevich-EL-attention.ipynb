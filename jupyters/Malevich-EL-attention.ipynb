{
 "cells": [
  {
   "cell_type": "markdown",
   "id": "724505ef",
   "metadata": {},
   "source": [
    "# TODO\n",
    "\n",
    "[![Open In Colab](https://colab.research.google.com/assets/colab-badge.svg)](https://colab.research.google.com/drive/1AoolDYePUpPkRCKIu0cP9zV7lX5QGD3Z?usp=sharing)"
   ]
  },
  {
   "cell_type": "code",
   "execution_count": 1,
   "id": "a5280201",
   "metadata": {},
   "outputs": [
    {
     "name": "stdout",
     "output_type": "stream",
     "text": [
      "/home/ax37/code/py/rudallel\n"
     ]
    }
   ],
   "source": [
    "%cd .."
   ]
  },
  {
   "cell_type": "code",
   "execution_count": 2,
   "id": "bb2f5594",
   "metadata": {},
   "outputs": [],
   "source": [
    "# !conda install -c anaconda cudatoolkit=10.2"
   ]
  },
  {
   "cell_type": "code",
   "execution_count": 3,
   "id": "6d097c77",
   "metadata": {},
   "outputs": [],
   "source": [
    "# !pip install torch==1.10.0"
   ]
  },
  {
   "cell_type": "code",
   "execution_count": 4,
   "id": "c62713d7",
   "metadata": {},
   "outputs": [
    {
     "name": "stdout",
     "output_type": "stream",
     "text": [
      "Found existing installation: rudalle 1.1.0rc0\n",
      "Uninstalling rudalle-1.1.0rc0:\n",
      "  Successfully uninstalled rudalle-1.1.0rc0\n",
      "Looking in indexes: https://pypi.org/simple, https://pypi.ngc.nvidia.com\n",
      "Obtaining file:///home/ax37/code/py/rudallel\n",
      "  Preparing metadata (setup.py) ... \u001b[?25ldone\n",
      "\u001b[?25hRequirement already satisfied: taming-transformers==0.0.1 in /home/ax37/anaconda3/lib/python3.8/site-packages (from rudalle==1.1.0rc0) (0.0.1)\n",
      "Requirement already satisfied: more_itertools~=8.12.0 in /home/ax37/anaconda3/lib/python3.8/site-packages (from rudalle==1.1.0rc0) (8.12.0)\n",
      "Requirement already satisfied: transformers~=4.10.2 in /home/ax37/anaconda3/lib/python3.8/site-packages (from rudalle==1.1.0rc0) (4.10.3)\n",
      "Requirement already satisfied: youtokentome~=1.0.6 in /home/ax37/anaconda3/lib/python3.8/site-packages (from rudalle==1.1.0rc0) (1.0.6)\n",
      "Requirement already satisfied: omegaconf>=2.0.0 in /home/ax37/anaconda3/lib/python3.8/site-packages (from rudalle==1.1.0rc0) (2.1.1)\n",
      "Requirement already satisfied: einops~=0.3.2 in /home/ax37/anaconda3/lib/python3.8/site-packages (from rudalle==1.1.0rc0) (0.3.2)\n",
      "Requirement already satisfied: PyWavelets==1.1.1 in /home/ax37/anaconda3/lib/python3.8/site-packages (from rudalle==1.1.0rc0) (1.1.1)\n",
      "Requirement already satisfied: segmentation-models-pytorch==0.1.3 in /home/ax37/anaconda3/lib/python3.8/site-packages (from rudalle==1.1.0rc0) (0.1.3)\n",
      "Requirement already satisfied: opencv-python==4.5.4.60 in /home/ax37/anaconda3/lib/python3.8/site-packages (from rudalle==1.1.0rc0) (4.5.4.60)\n",
      "Requirement already satisfied: torch in /home/ax37/anaconda3/lib/python3.8/site-packages (from rudalle==1.1.0rc0) (1.10.0)\n",
      "Requirement already satisfied: torchvision in /home/ax37/anaconda3/lib/python3.8/site-packages (from rudalle==1.1.0rc0) (0.11.1)\n",
      "Requirement already satisfied: matplotlib in /home/ax37/anaconda3/lib/python3.8/site-packages (from rudalle==1.1.0rc0) (3.3.4)\n",
      "Requirement already satisfied: numpy>=1.17.3 in /home/ax37/.var/app/com.jetbrains.PyCharm-Community/data/python/lib/python3.8/site-packages (from opencv-python==4.5.4.60->rudalle==1.1.0rc0) (1.21.2)\n",
      "Requirement already satisfied: efficientnet-pytorch==0.6.3 in /home/ax37/anaconda3/lib/python3.8/site-packages (from segmentation-models-pytorch==0.1.3->rudalle==1.1.0rc0) (0.6.3)\n",
      "Requirement already satisfied: timm==0.3.2 in /home/ax37/anaconda3/lib/python3.8/site-packages (from segmentation-models-pytorch==0.1.3->rudalle==1.1.0rc0) (0.3.2)\n",
      "Requirement already satisfied: pretrainedmodels==0.7.4 in /home/ax37/anaconda3/lib/python3.8/site-packages (from segmentation-models-pytorch==0.1.3->rudalle==1.1.0rc0) (0.7.4)\n",
      "Requirement already satisfied: tqdm in /home/ax37/.var/app/com.jetbrains.PyCharm-Community/data/python/lib/python3.8/site-packages (from taming-transformers==0.0.1->rudalle==1.1.0rc0) (4.62.2)\n",
      "Requirement already satisfied: pytorch-lightning>=1.0.8 in /home/ax37/anaconda3/lib/python3.8/site-packages (from taming-transformers==0.0.1->rudalle==1.1.0rc0) (1.5.5)\n",
      "Requirement already satisfied: munch in /home/ax37/anaconda3/lib/python3.8/site-packages (from pretrainedmodels==0.7.4->segmentation-models-pytorch==0.1.3->rudalle==1.1.0rc0) (2.5.0)\n",
      "Requirement already satisfied: antlr4-python3-runtime==4.8 in /home/ax37/anaconda3/lib/python3.8/site-packages (from omegaconf>=2.0.0->rudalle==1.1.0rc0) (4.8)\n",
      "Requirement already satisfied: PyYAML>=5.1.0 in /home/ax37/anaconda3/lib/python3.8/site-packages (from omegaconf>=2.0.0->rudalle==1.1.0rc0) (5.4.1)\n",
      "Requirement already satisfied: typing-extensions in /home/ax37/.var/app/com.jetbrains.PyCharm-Community/data/python/lib/python3.8/site-packages (from torch->rudalle==1.1.0rc0) (3.10.0.0)\n",
      "Requirement already satisfied: pillow!=8.3.0,>=5.3.0 in /home/ax37/anaconda3/lib/python3.8/site-packages (from torchvision->rudalle==1.1.0rc0) (8.2.0)\n",
      "Requirement already satisfied: regex!=2019.12.17 in /home/ax37/anaconda3/lib/python3.8/site-packages (from transformers~=4.10.2->rudalle==1.1.0rc0) (2021.4.4)\n",
      "Requirement already satisfied: tokenizers<0.11,>=0.10.1 in /home/ax37/anaconda3/lib/python3.8/site-packages (from transformers~=4.10.2->rudalle==1.1.0rc0) (0.10.3)\n",
      "Requirement already satisfied: sacremoses in /home/ax37/anaconda3/lib/python3.8/site-packages (from transformers~=4.10.2->rudalle==1.1.0rc0) (0.0.46)\n",
      "Requirement already satisfied: filelock in /home/ax37/anaconda3/lib/python3.8/site-packages (from transformers~=4.10.2->rudalle==1.1.0rc0) (3.0.12)\n",
      "Requirement already satisfied: huggingface-hub>=0.0.12 in /home/ax37/anaconda3/lib/python3.8/site-packages (from transformers~=4.10.2->rudalle==1.1.0rc0) (0.2.1)\n",
      "Requirement already satisfied: requests in /home/ax37/anaconda3/lib/python3.8/site-packages (from transformers~=4.10.2->rudalle==1.1.0rc0) (2.25.1)\n",
      "Requirement already satisfied: packaging in /home/ax37/.var/app/com.jetbrains.PyCharm-Community/data/python/lib/python3.8/site-packages (from transformers~=4.10.2->rudalle==1.1.0rc0) (21.0)\n",
      "Requirement already satisfied: Click>=7.0 in /home/ax37/anaconda3/lib/python3.8/site-packages (from youtokentome~=1.0.6->rudalle==1.1.0rc0) (7.1.2)\n",
      "Requirement already satisfied: python-dateutil>=2.1 in /home/ax37/.var/app/com.jetbrains.PyCharm-Community/data/python/lib/python3.8/site-packages (from matplotlib->rudalle==1.1.0rc0) (2.8.2)\n",
      "Requirement already satisfied: cycler>=0.10 in /home/ax37/anaconda3/lib/python3.8/site-packages (from matplotlib->rudalle==1.1.0rc0) (0.10.0)\n",
      "Requirement already satisfied: pyparsing!=2.0.4,!=2.1.2,!=2.1.6,>=2.0.3 in /home/ax37/.var/app/com.jetbrains.PyCharm-Community/data/python/lib/python3.8/site-packages (from matplotlib->rudalle==1.1.0rc0) (2.4.7)\n",
      "Requirement already satisfied: kiwisolver>=1.0.1 in /home/ax37/anaconda3/lib/python3.8/site-packages (from matplotlib->rudalle==1.1.0rc0) (1.3.1)\n",
      "Requirement already satisfied: six in /home/ax37/anaconda3/lib/python3.8/site-packages (from cycler>=0.10->matplotlib->rudalle==1.1.0rc0) (1.16.0)\n",
      "Requirement already satisfied: tensorboard>=2.2.0 in /home/ax37/anaconda3/lib/python3.8/site-packages (from pytorch-lightning>=1.0.8->taming-transformers==0.0.1->rudalle==1.1.0rc0) (2.8.0)\n",
      "Requirement already satisfied: pyDeprecate==0.3.1 in /home/ax37/anaconda3/lib/python3.8/site-packages (from pytorch-lightning>=1.0.8->taming-transformers==0.0.1->rudalle==1.1.0rc0) (0.3.1)\n",
      "Requirement already satisfied: torchmetrics>=0.4.1 in /home/ax37/anaconda3/lib/python3.8/site-packages (from pytorch-lightning>=1.0.8->taming-transformers==0.0.1->rudalle==1.1.0rc0) (0.6.1)\n",
      "Requirement already satisfied: future>=0.17.1 in /home/ax37/anaconda3/lib/python3.8/site-packages (from pytorch-lightning>=1.0.8->taming-transformers==0.0.1->rudalle==1.1.0rc0) (0.18.2)\n",
      "Requirement already satisfied: fsspec[http]!=2021.06.0,>=2021.05.0 in /home/ax37/anaconda3/lib/python3.8/site-packages (from pytorch-lightning>=1.0.8->taming-transformers==0.0.1->rudalle==1.1.0rc0) (2021.11.1)\n",
      "Requirement already satisfied: urllib3<1.27,>=1.21.1 in /home/ax37/anaconda3/lib/python3.8/site-packages (from requests->transformers~=4.10.2->rudalle==1.1.0rc0) (1.26.9)\n",
      "Requirement already satisfied: idna<3,>=2.5 in /home/ax37/anaconda3/lib/python3.8/site-packages (from requests->transformers~=4.10.2->rudalle==1.1.0rc0) (2.10)\n",
      "Requirement already satisfied: certifi>=2017.4.17 in /home/ax37/anaconda3/lib/python3.8/site-packages (from requests->transformers~=4.10.2->rudalle==1.1.0rc0) (2021.10.8)\n",
      "Requirement already satisfied: chardet<5,>=3.0.2 in /home/ax37/anaconda3/lib/python3.8/site-packages (from requests->transformers~=4.10.2->rudalle==1.1.0rc0) (4.0.0)\n",
      "Requirement already satisfied: joblib in /home/ax37/anaconda3/lib/python3.8/site-packages (from sacremoses->transformers~=4.10.2->rudalle==1.1.0rc0) (1.0.1)\n",
      "Requirement already satisfied: aiohttp in /home/ax37/anaconda3/lib/python3.8/site-packages (from fsspec[http]!=2021.06.0,>=2021.05.0->pytorch-lightning>=1.0.8->taming-transformers==0.0.1->rudalle==1.1.0rc0) (3.8.1)\n",
      "Requirement already satisfied: google-auth<3,>=1.6.3 in /home/ax37/anaconda3/lib/python3.8/site-packages (from tensorboard>=2.2.0->pytorch-lightning>=1.0.8->taming-transformers==0.0.1->rudalle==1.1.0rc0) (2.3.3)\n",
      "Requirement already satisfied: setuptools>=41.0.0 in /home/ax37/anaconda3/lib/python3.8/site-packages (from tensorboard>=2.2.0->pytorch-lightning>=1.0.8->taming-transformers==0.0.1->rudalle==1.1.0rc0) (52.0.0.post20210125)\n",
      "Requirement already satisfied: werkzeug>=0.11.15 in /home/ax37/anaconda3/lib/python3.8/site-packages (from tensorboard>=2.2.0->pytorch-lightning>=1.0.8->taming-transformers==0.0.1->rudalle==1.1.0rc0) (1.0.1)\n",
      "Requirement already satisfied: absl-py>=0.4 in /home/ax37/anaconda3/lib/python3.8/site-packages (from tensorboard>=2.2.0->pytorch-lightning>=1.0.8->taming-transformers==0.0.1->rudalle==1.1.0rc0) (1.0.0)\n",
      "Requirement already satisfied: wheel>=0.26 in /home/ax37/anaconda3/lib/python3.8/site-packages (from tensorboard>=2.2.0->pytorch-lightning>=1.0.8->taming-transformers==0.0.1->rudalle==1.1.0rc0) (0.36.2)\n",
      "Requirement already satisfied: protobuf>=3.6.0 in /home/ax37/anaconda3/lib/python3.8/site-packages (from tensorboard>=2.2.0->pytorch-lightning>=1.0.8->taming-transformers==0.0.1->rudalle==1.1.0rc0) (3.20.1)\n",
      "Requirement already satisfied: google-auth-oauthlib<0.5,>=0.4.1 in /home/ax37/anaconda3/lib/python3.8/site-packages (from tensorboard>=2.2.0->pytorch-lightning>=1.0.8->taming-transformers==0.0.1->rudalle==1.1.0rc0) (0.4.6)\n",
      "Requirement already satisfied: tensorboard-plugin-wit>=1.6.0 in /home/ax37/anaconda3/lib/python3.8/site-packages (from tensorboard>=2.2.0->pytorch-lightning>=1.0.8->taming-transformers==0.0.1->rudalle==1.1.0rc0) (1.8.0)\n",
      "Requirement already satisfied: markdown>=2.6.8 in /home/ax37/anaconda3/lib/python3.8/site-packages (from tensorboard>=2.2.0->pytorch-lightning>=1.0.8->taming-transformers==0.0.1->rudalle==1.1.0rc0) (3.3.6)\n",
      "Requirement already satisfied: grpcio>=1.24.3 in /home/ax37/anaconda3/lib/python3.8/site-packages (from tensorboard>=2.2.0->pytorch-lightning>=1.0.8->taming-transformers==0.0.1->rudalle==1.1.0rc0) (1.42.0)\n",
      "Requirement already satisfied: tensorboard-data-server<0.7.0,>=0.6.0 in /home/ax37/anaconda3/lib/python3.8/site-packages (from tensorboard>=2.2.0->pytorch-lightning>=1.0.8->taming-transformers==0.0.1->rudalle==1.1.0rc0) (0.6.1)\n"
     ]
    },
    {
     "name": "stdout",
     "output_type": "stream",
     "text": [
      "Requirement already satisfied: pyasn1-modules>=0.2.1 in /home/ax37/anaconda3/lib/python3.8/site-packages (from google-auth<3,>=1.6.3->tensorboard>=2.2.0->pytorch-lightning>=1.0.8->taming-transformers==0.0.1->rudalle==1.1.0rc0) (0.2.8)\n",
      "Requirement already satisfied: rsa<5,>=3.1.4 in /home/ax37/anaconda3/lib/python3.8/site-packages (from google-auth<3,>=1.6.3->tensorboard>=2.2.0->pytorch-lightning>=1.0.8->taming-transformers==0.0.1->rudalle==1.1.0rc0) (4.8)\n",
      "Requirement already satisfied: cachetools<5.0,>=2.0.0 in /home/ax37/anaconda3/lib/python3.8/site-packages (from google-auth<3,>=1.6.3->tensorboard>=2.2.0->pytorch-lightning>=1.0.8->taming-transformers==0.0.1->rudalle==1.1.0rc0) (4.2.4)\n",
      "Requirement already satisfied: requests-oauthlib>=0.7.0 in /home/ax37/anaconda3/lib/python3.8/site-packages (from google-auth-oauthlib<0.5,>=0.4.1->tensorboard>=2.2.0->pytorch-lightning>=1.0.8->taming-transformers==0.0.1->rudalle==1.1.0rc0) (1.3.0)\n",
      "Requirement already satisfied: importlib-metadata>=4.4 in /home/ax37/anaconda3/lib/python3.8/site-packages (from markdown>=2.6.8->tensorboard>=2.2.0->pytorch-lightning>=1.0.8->taming-transformers==0.0.1->rudalle==1.1.0rc0) (4.8.2)\n",
      "Requirement already satisfied: charset-normalizer<3.0,>=2.0 in /home/ax37/anaconda3/lib/python3.8/site-packages (from aiohttp->fsspec[http]!=2021.06.0,>=2021.05.0->pytorch-lightning>=1.0.8->taming-transformers==0.0.1->rudalle==1.1.0rc0) (2.0.12)\n",
      "Requirement already satisfied: yarl<2.0,>=1.0 in /home/ax37/anaconda3/lib/python3.8/site-packages (from aiohttp->fsspec[http]!=2021.06.0,>=2021.05.0->pytorch-lightning>=1.0.8->taming-transformers==0.0.1->rudalle==1.1.0rc0) (1.7.2)\n",
      "Requirement already satisfied: aiosignal>=1.1.2 in /home/ax37/anaconda3/lib/python3.8/site-packages (from aiohttp->fsspec[http]!=2021.06.0,>=2021.05.0->pytorch-lightning>=1.0.8->taming-transformers==0.0.1->rudalle==1.1.0rc0) (1.2.0)\n",
      "Requirement already satisfied: multidict<7.0,>=4.5 in /home/ax37/anaconda3/lib/python3.8/site-packages (from aiohttp->fsspec[http]!=2021.06.0,>=2021.05.0->pytorch-lightning>=1.0.8->taming-transformers==0.0.1->rudalle==1.1.0rc0) (5.2.0)\n",
      "Requirement already satisfied: frozenlist>=1.1.1 in /home/ax37/anaconda3/lib/python3.8/site-packages (from aiohttp->fsspec[http]!=2021.06.0,>=2021.05.0->pytorch-lightning>=1.0.8->taming-transformers==0.0.1->rudalle==1.1.0rc0) (1.2.0)\n",
      "Requirement already satisfied: attrs>=17.3.0 in /home/ax37/.var/app/com.jetbrains.PyCharm-Community/data/python/lib/python3.8/site-packages (from aiohttp->fsspec[http]!=2021.06.0,>=2021.05.0->pytorch-lightning>=1.0.8->taming-transformers==0.0.1->rudalle==1.1.0rc0) (21.2.0)\n",
      "Requirement already satisfied: async-timeout<5.0,>=4.0.0a3 in /home/ax37/anaconda3/lib/python3.8/site-packages (from aiohttp->fsspec[http]!=2021.06.0,>=2021.05.0->pytorch-lightning>=1.0.8->taming-transformers==0.0.1->rudalle==1.1.0rc0) (4.0.1)\n",
      "Requirement already satisfied: zipp>=0.5 in /home/ax37/anaconda3/lib/python3.8/site-packages (from importlib-metadata>=4.4->markdown>=2.6.8->tensorboard>=2.2.0->pytorch-lightning>=1.0.8->taming-transformers==0.0.1->rudalle==1.1.0rc0) (3.4.1)\n",
      "Requirement already satisfied: pyasn1<0.5.0,>=0.4.6 in /home/ax37/anaconda3/lib/python3.8/site-packages (from pyasn1-modules>=0.2.1->google-auth<3,>=1.6.3->tensorboard>=2.2.0->pytorch-lightning>=1.0.8->taming-transformers==0.0.1->rudalle==1.1.0rc0) (0.4.8)\n",
      "Requirement already satisfied: oauthlib>=3.0.0 in /home/ax37/anaconda3/lib/python3.8/site-packages (from requests-oauthlib>=0.7.0->google-auth-oauthlib<0.5,>=0.4.1->tensorboard>=2.2.0->pytorch-lightning>=1.0.8->taming-transformers==0.0.1->rudalle==1.1.0rc0) (3.1.1)\n",
      "Installing collected packages: rudalle\n",
      "  Running setup.py develop for rudalle\n",
      "Successfully installed rudalle-1.1.0rc0\n",
      "\u001b[33mWARNING: You are using pip version 21.3.1; however, version 22.1.1 is available.\n",
      "You should consider upgrading via the '/home/ax37/anaconda3/bin/python -m pip install --upgrade pip' command.\u001b[0m\n"
     ]
    }
   ],
   "source": [
    "!pip uninstall -y rudalle\n",
    "!pip install -e .  # rudalle==0.0.1rc8 > /dev/null"
   ]
  },
  {
   "cell_type": "code",
   "execution_count": 5,
   "id": "f2a4af63",
   "metadata": {},
   "outputs": [
    {
     "name": "stdout",
     "output_type": "stream",
     "text": [
      "ruDALL-E batch size: 4\n"
     ]
    }
   ],
   "source": [
    "#@param {type: \"float\"}\n",
    "ALLOWED_MEMORY = 6.5 # 3.5 # choose your GPU memory in GB  \n",
    "if ALLOWED_MEMORY < 4.5:\n",
    "    DALLE_BS = 1\n",
    "elif ALLOWED_MEMORY < 5.5:\n",
    "    DALLE_BS = 2\n",
    "elif ALLOWED_MEMORY < 6.5:\n",
    "    DALLE_BS = 3\n",
    "elif ALLOWED_MEMORY < 7.5:\n",
    "    DALLE_BS = 4\n",
    "elif ALLOWED_MEMORY < 8.5:\n",
    "    DALLE_BS = 5\n",
    "elif ALLOWED_MEMORY < 9.5:\n",
    "    DALLE_BS = 6\n",
    "elif ALLOWED_MEMORY < 10.5:\n",
    "    DALLE_BS = 7\n",
    "else:\n",
    "    DALLE_BS = 8\n",
    "    \n",
    "print('ruDALL-E batch size:', DALLE_BS)"
   ]
  },
  {
   "cell_type": "code",
   "execution_count": 6,
   "id": "f993e0c6",
   "metadata": {},
   "outputs": [
    {
     "name": "stdout",
     "output_type": "stream",
     "text": [
      "CPU: 16\n",
      "RAM GB: 31.4\n",
      "PyTorch version: 1.10.0+cu102\n",
      "CUDA version: 10.2\n",
      "cuDNN version: 7605\n",
      "/bin/sh: line 1: nvidia-smi: command not found\r\n"
     ]
    }
   ],
   "source": [
    "import multiprocessing\n",
    "import torch\n",
    "from psutil import virtual_memory\n",
    "\n",
    "\n",
    "ram_gb = round(virtual_memory().total / 1024**3, 1)\n",
    "print('CPU:', multiprocessing.cpu_count())\n",
    "print('RAM GB:', ram_gb)\n",
    "print(\"PyTorch version:\", torch.__version__)\n",
    "print(\"CUDA version:\", torch.version.cuda)\n",
    "print(\"cuDNN version:\", torch.backends.cudnn.version())\n",
    "\n",
    "!nvidia-smi"
   ]
  },
  {
   "cell_type": "code",
   "execution_count": 7,
   "id": "1b821402",
   "metadata": {},
   "outputs": [],
   "source": [
    "%load_ext autoreload\n",
    "%reload_ext autoreload\n",
    "%autoreload 2"
   ]
  },
  {
   "cell_type": "code",
   "execution_count": 8,
   "id": "f4f695db",
   "metadata": {},
   "outputs": [],
   "source": [
    "import transformers\n",
    "import more_itertools\n",
    "from tqdm.auto import tqdm\n",
    "\n",
    "from rudalle.pipelines import generate_images, show  # , cherry_pick_by_clip\n",
    "from rudalle import get_rudalle_model, get_tokenizer, get_vae  # , get_ruclip\n",
    "from rudalle.utils import seed_everything, torch_tensors_to_pil_list"
   ]
  },
  {
   "cell_type": "code",
   "execution_count": 9,
   "id": "d4f9a411",
   "metadata": {},
   "outputs": [
    {
     "name": "stdout",
     "output_type": "stream",
     "text": [
      "◼️ Malevich is 1.3 billion params model from the family GPT3-like, that uses Russian language and text+image multi-modality.\n",
      "tokenizer --> ready\n",
      "Working with z of shape (1, 256, 32, 32) = 262144 dimensions.\n",
      "vae --> ready\n"
     ]
    }
   ],
   "source": [
    "# # prepare models:\n",
    "device = \"cuda\"\n",
    "dalle = get_rudalle_model(\"Malevich\", pretrained=True, fp16=True, device=device)\n",
    "tokenizer = get_tokenizer()\n",
    "vae = get_vae(dwt=True)\n",
    "\n",
    "# # prepare utils:\n",
    "# ruclip, ruclip_processor = get_ruclip(\"ruclip-vit-base-patch32-v5\")"
   ]
  },
  {
   "cell_type": "code",
   "execution_count": 10,
   "id": "d7a44e52",
   "metadata": {},
   "outputs": [],
   "source": [
    "from rudalle.dalle.transformer import ELAttention"
   ]
  },
  {
   "cell_type": "code",
   "execution_count": 11,
   "id": "490dff2b",
   "metadata": {},
   "outputs": [],
   "source": [
    "# import torch\n",
    "# import gc\n",
    "\n",
    "\n",
    "# gc.collect()\n",
    "# torch.cuda.empty_cache()\n",
    "# torch.set_grad_enabled(False)\n",
    "# att1 = dalle.module.transformer.layers[0].attention\n",
    "# att1.custom_relax = False\n",
    "# att1.cogview_pb_relax = False\n",
    "# att1.eval()\n",
    "# att1.attention_dropout = torch.nn.Identity()\n",
    "# att2 = ELAttention(att1)\n",
    "# torch.manual_seed(42)\n",
    "# inputs = (torch.randn((2, 4, dalle.module.transformer.layers[0].attention.hidden_size)).cuda().half(),\n",
    "#           torch.ones((1, 1, 4, 4)).cuda().half())\n",
    "# x1, _ = att1(*inputs, use_cache=True)\n",
    "# x2, _ = att2(*inputs, use_cache=True)\n",
    "# diff = x1 - x2\n",
    "# print((diff ** 2).sum())\n",
    "\n",
    "# diff = diff.clamp(-4, 4)\n",
    "\n",
    "# from matplotlib import pyplot as plt\n",
    "# plt.imshow(diff.reshape(-1, diff.shape[-1] // 16).detach().float().cpu().numpy() ** 2)\n",
    "# plt.colorbar()"
   ]
  },
  {
   "cell_type": "code",
   "execution_count": 12,
   "id": "69326e32",
   "metadata": {},
   "outputs": [
    {
     "data": {
      "text/plain": [
       "0"
      ]
     },
     "execution_count": 12,
     "metadata": {},
     "output_type": "execute_result"
    }
   ],
   "source": [
    "vae.cuda()\n",
    "0"
   ]
  },
  {
   "cell_type": "code",
   "execution_count": 13,
   "id": "454cb660",
   "metadata": {},
   "outputs": [
    {
     "ename": "RuntimeError",
     "evalue": "CUDA out of memory. Tried to allocate 128.00 MiB (GPU 0; 7.79 GiB total capacity; 4.33 GiB already allocated; 146.44 MiB free; 4.38 GiB reserved in total by PyTorch) If reserved memory is >> allocated memory try setting max_split_size_mb to avoid fragmentation.  See documentation for Memory Management and PYTORCH_CUDA_ALLOC_CONF",
     "output_type": "error",
     "traceback": [
      "\u001b[0;31m---------------------------------------------------------------------------\u001b[0m",
      "\u001b[0;31mRuntimeError\u001b[0m                              Traceback (most recent call last)",
      "\u001b[0;32m/run/user/1001/app/com.jetbrains.PyCharm-Community/ipykernel_3013/3839051683.py\u001b[0m in \u001b[0;36m<module>\u001b[0;34m\u001b[0m\n\u001b[1;32m      1\u001b[0m \u001b[0;32mwith\u001b[0m \u001b[0mtorch\u001b[0m\u001b[0;34m.\u001b[0m\u001b[0mcuda\u001b[0m\u001b[0;34m.\u001b[0m\u001b[0mamp\u001b[0m\u001b[0;34m.\u001b[0m\u001b[0mautocast\u001b[0m\u001b[0;34m(\u001b[0m\u001b[0;34m)\u001b[0m\u001b[0;34m:\u001b[0m\u001b[0;34m\u001b[0m\u001b[0;34m\u001b[0m\u001b[0m\n\u001b[0;32m----> 2\u001b[0;31m     \u001b[0mdalle\u001b[0m\u001b[0;34m.\u001b[0m\u001b[0mmodule\u001b[0m\u001b[0;34m.\u001b[0m\u001b[0mtransformer\u001b[0m\u001b[0;34m.\u001b[0m\u001b[0mto_el\u001b[0m\u001b[0;34m(\u001b[0m\u001b[0;34m)\u001b[0m\u001b[0;34m\u001b[0m\u001b[0;34m\u001b[0m\u001b[0m\n\u001b[0m\u001b[1;32m      3\u001b[0m \u001b[0;36m0\u001b[0m\u001b[0;34m\u001b[0m\u001b[0;34m\u001b[0m\u001b[0m\n",
      "\u001b[0;32m~/code/py/rudallel/rudalle/dalle/transformer.py\u001b[0m in \u001b[0;36mto_el\u001b[0;34m(self)\u001b[0m\n\u001b[1;32m    170\u001b[0m         \"\"\"\n\u001b[1;32m    171\u001b[0m         \u001b[0;32mfor\u001b[0m \u001b[0mlayer\u001b[0m \u001b[0;32min\u001b[0m \u001b[0mself\u001b[0m\u001b[0;34m.\u001b[0m\u001b[0mlayers\u001b[0m\u001b[0;34m:\u001b[0m\u001b[0;34m\u001b[0m\u001b[0;34m\u001b[0m\u001b[0m\n\u001b[0;32m--> 172\u001b[0;31m             \u001b[0mlayer\u001b[0m\u001b[0;34m.\u001b[0m\u001b[0mto_el\u001b[0m\u001b[0;34m(\u001b[0m\u001b[0;34m)\u001b[0m\u001b[0;34m\u001b[0m\u001b[0;34m\u001b[0m\u001b[0m\n\u001b[0m\u001b[1;32m    173\u001b[0m         \u001b[0;32mreturn\u001b[0m \u001b[0mself\u001b[0m\u001b[0;34m\u001b[0m\u001b[0;34m\u001b[0m\u001b[0m\n\u001b[1;32m    174\u001b[0m \u001b[0;34m\u001b[0m\u001b[0m\n",
      "\u001b[0;32m~/code/py/rudallel/rudalle/dalle/transformer.py\u001b[0m in \u001b[0;36mto_el\u001b[0;34m(self)\u001b[0m\n\u001b[1;32m    298\u001b[0m         \u001b[0mold_attention\u001b[0m \u001b[0;34m=\u001b[0m \u001b[0mself\u001b[0m\u001b[0;34m.\u001b[0m\u001b[0mattention\u001b[0m\u001b[0;34m\u001b[0m\u001b[0;34m\u001b[0m\u001b[0m\n\u001b[1;32m    299\u001b[0m         \u001b[0;32mif\u001b[0m \u001b[0;32mnot\u001b[0m \u001b[0misinstance\u001b[0m\u001b[0;34m(\u001b[0m\u001b[0mself\u001b[0m\u001b[0;34m.\u001b[0m\u001b[0mattention\u001b[0m\u001b[0;34m,\u001b[0m \u001b[0mELAttention\u001b[0m\u001b[0;34m)\u001b[0m\u001b[0;34m:\u001b[0m\u001b[0;34m\u001b[0m\u001b[0;34m\u001b[0m\u001b[0m\n\u001b[0;32m--> 300\u001b[0;31m             \u001b[0mself\u001b[0m\u001b[0;34m.\u001b[0m\u001b[0mattention\u001b[0m \u001b[0;34m=\u001b[0m \u001b[0mELAttention\u001b[0m\u001b[0;34m(\u001b[0m\u001b[0mself\u001b[0m\u001b[0;34m.\u001b[0m\u001b[0mattention\u001b[0m\u001b[0;34m)\u001b[0m\u001b[0;34m\u001b[0m\u001b[0;34m\u001b[0m\u001b[0m\n\u001b[0m\u001b[1;32m    301\u001b[0m         \u001b[0;32melse\u001b[0m\u001b[0;34m:\u001b[0m\u001b[0;34m\u001b[0m\u001b[0;34m\u001b[0m\u001b[0m\n\u001b[1;32m    302\u001b[0m             \u001b[0mself\u001b[0m\u001b[0;34m.\u001b[0m\u001b[0mattention\u001b[0m \u001b[0;34m=\u001b[0m \u001b[0mself\u001b[0m\u001b[0;34m.\u001b[0m\u001b[0mattention\u001b[0m\u001b[0;34m.\u001b[0m\u001b[0mold\u001b[0m\u001b[0;34m(\u001b[0m\u001b[0;34m)\u001b[0m\u001b[0;34m\u001b[0m\u001b[0;34m\u001b[0m\u001b[0m\n",
      "\u001b[0;32m~/code/py/rudallel/rudalle/dalle/transformer.py\u001b[0m in \u001b[0;36m__init__\u001b[0;34m(self, attention)\u001b[0m\n\u001b[1;32m    507\u001b[0m         \u001b[0mself\u001b[0m\u001b[0;34m.\u001b[0m\u001b[0mqk\u001b[0m\u001b[0;34m,\u001b[0m \u001b[0mself\u001b[0m\u001b[0;34m.\u001b[0m\u001b[0mqb\u001b[0m\u001b[0;34m,\u001b[0m \u001b[0mself\u001b[0m\u001b[0;34m.\u001b[0m\u001b[0mkd\u001b[0m\u001b[0;34m,\u001b[0m \u001b[0mself\u001b[0m\u001b[0;34m.\u001b[0m\u001b[0mab\u001b[0m \u001b[0;34m=\u001b[0m \u001b[0mnew_qk\u001b[0m\u001b[0;34m,\u001b[0m \u001b[0mnew_qb\u001b[0m\u001b[0;34m,\u001b[0m \u001b[0mnew_kd\u001b[0m\u001b[0;34m,\u001b[0m \u001b[0mnew_ab\u001b[0m\u001b[0;34m\u001b[0m\u001b[0;34m\u001b[0m\u001b[0m\n\u001b[1;32m    508\u001b[0m \u001b[0;34m\u001b[0m\u001b[0m\n\u001b[0;32m--> 509\u001b[0;31m         new_output = (value.view(-1, num_attention_heads, hidden_size_per_attention_head).transpose(-2, -3)\n\u001b[0m\u001b[1;32m    510\u001b[0m                       @ output.view(num_attention_heads, hidden_size_per_attention_head, -1))\n\u001b[1;32m    511\u001b[0m         \u001b[0mnew_output_bias\u001b[0m \u001b[0;34m=\u001b[0m \u001b[0mvalue_bias\u001b[0m \u001b[0;34m@\u001b[0m \u001b[0moutput\u001b[0m \u001b[0;34m+\u001b[0m \u001b[0moutput_bias\u001b[0m\u001b[0;34m\u001b[0m\u001b[0;34m\u001b[0m\u001b[0m\n",
      "\u001b[0;31mRuntimeError\u001b[0m: CUDA out of memory. Tried to allocate 128.00 MiB (GPU 0; 7.79 GiB total capacity; 4.33 GiB already allocated; 146.44 MiB free; 4.38 GiB reserved in total by PyTorch) If reserved memory is >> allocated memory try setting max_split_size_mb to avoid fragmentation.  See documentation for Memory Management and PYTORCH_CUDA_ALLOC_CONF"
     ]
    }
   ],
   "source": [
    "with torch.cuda.amp.autocast():\n",
    "    dalle.module.transformer.to_el()\n",
    "0"
   ]
  },
  {
   "cell_type": "code",
   "execution_count": null,
   "id": "79b73e79",
   "metadata": {},
   "outputs": [],
   "source": [
    "text = \"эль-внимание\"\n",
    "\n",
    "seed_everything(14)\n",
    "images = []\n",
    "for top_k, top_p, images_num in [\n",
    "    (2048, 0.995, 8),\n",
    "#     (1536, 0.99, 8),\n",
    "#     (1024, 0.99, 8),\n",
    "#     (1024, 0.98, 8),\n",
    "#     (512, 0.97, 8),\n",
    "#     (384, 0.96, 8),\n",
    "#     (256, 0.95, 8),\n",
    "#     (128, 0.95, 8),\n",
    "]:\n",
    "    images += generate_images(text, tokenizer, dalle, vae,\n",
    "                                 top_k=top_k, images_num=images_num,\n",
    "                                 top_p=top_p, bs=DALLE_BS,\n",
    "                                 use_cache=False)\n",
    "show(images[0])"
   ]
  },
  {
   "cell_type": "code",
   "execution_count": null,
   "id": "6983f3b2",
   "metadata": {},
   "outputs": [],
   "source": [
    "show(images[0])"
   ]
  },
  {
   "cell_type": "code",
   "execution_count": null,
   "id": "ec488a4e",
   "metadata": {},
   "outputs": [],
   "source": [
    "pil_images = []\n",
    "for _codebooks in tqdm(torch.cat(codebooks).cpu()):\n",
    "    with torch.no_grad():\n",
    "        images = vae.decode(_codebooks.unsqueeze(0))\n",
    "        pil_images += torch_tensors_to_pil_list(images)"
   ]
  }
 ],
 "metadata": {
  "kernelspec": {
   "display_name": "Python 3",
   "language": "python",
   "name": "python3"
  },
  "language_info": {
   "codemirror_mode": {
    "name": "ipython",
    "version": 3
   },
   "file_extension": ".py",
   "mimetype": "text/x-python",
   "name": "python",
   "nbconvert_exporter": "python",
   "pygments_lexer": "ipython3",
   "version": "3.8.8"
  }
 },
 "nbformat": 4,
 "nbformat_minor": 5
}
